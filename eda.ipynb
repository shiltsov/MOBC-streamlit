{
 "cells": [
  {
   "cell_type": "markdown",
   "id": "672157c4",
   "metadata": {},
   "source": [
    "### Слияние данных в один датасет и предобрабока. "
   ]
  },
  {
   "cell_type": "code",
   "execution_count": 71,
   "id": "b3d449a2",
   "metadata": {},
   "outputs": [],
   "source": [
    "import pandas as pd\n",
    "import numpy as np\n",
    "import seaborn as sns\n",
    "from scipy.stats import zscore\n",
    "from matplotlib import pyplot as plt\n",
    "\n",
    "\"\"\"\n",
    "D_clients.csv\n",
    "D_close_loan.csv\n",
    "D_job.csv\n",
    "D_last_credit.csv\n",
    "D_loan.csv\n",
    "D_pens.csv\n",
    "D_salary.csv\n",
    "D_target.csv\n",
    "D_work.csv\n",
    "\"\"\"\n",
    "\n",
    "\n",
    "#df = pd.read_csv(\"datasets/bank-mix.csv\")\n",
    "#df.head()\n",
    "\n",
    "df_clients = pd.read_csv(\"datasets/D_clients.csv\")\n",
    "df_loan = pd.read_csv(\"datasets/D_loan.csv\")\n",
    "df_close_loan = pd.read_csv(\"datasets/D_close_loan.csv\")\n",
    "df_salary = pd.read_csv(\"datasets/D_salary.csv\")\n",
    "df_last_credit = pd.read_csv(\"datasets/D_last_credit.csv\")\n",
    "df_target = pd.read_csv(\"datasets/D_target.csv\")\n",
    "df_job = pd.read_csv(\"datasets/D_job.csv\")"
   ]
  },
  {
   "cell_type": "markdown",
   "id": "ea9f8bb5",
   "metadata": {},
   "source": [
    "Сначала сливаем с таргетом. там будут пропуски (не у всех клиентов известен отклик), но они нам неинтересны, поэтому делаем правый джоин чтобы они сразу удалились\n",
    "\n"
   ]
  },
  {
   "cell_type": "code",
   "execution_count": 3,
   "id": "717f6ed3",
   "metadata": {},
   "outputs": [],
   "source": [
    "df_cl_t = pd.merge(df_clients, df_target, how = \"right\", left_on = \"ID\", right_on = \"ID_CLIENT\" )"
   ]
  },
  {
   "cell_type": "code",
   "execution_count": 4,
   "id": "8de18912",
   "metadata": {},
   "outputs": [
    {
     "name": "stdout",
     "output_type": "stream",
     "text": [
      "<class 'pandas.core.frame.DataFrame'>\n",
      "RangeIndex: 15223 entries, 0 to 15222\n",
      "Data columns (total 17 columns):\n",
      " #   Column                   Non-Null Count  Dtype \n",
      "---  ------                   --------------  ----- \n",
      " 0   ID                       15223 non-null  int64 \n",
      " 1   AGE                      15223 non-null  int64 \n",
      " 2   GENDER                   15223 non-null  int64 \n",
      " 3   EDUCATION                15223 non-null  object\n",
      " 4   MARITAL_STATUS           15223 non-null  object\n",
      " 5   CHILD_TOTAL              15223 non-null  int64 \n",
      " 6   DEPENDANTS               15223 non-null  int64 \n",
      " 7   SOCSTATUS_WORK_FL        15223 non-null  int64 \n",
      " 8   SOCSTATUS_PENS_FL        15223 non-null  int64 \n",
      " 9   REG_ADDRESS_PROVINCE     15223 non-null  object\n",
      " 10  FACT_ADDRESS_PROVINCE    15223 non-null  object\n",
      " 11  POSTAL_ADDRESS_PROVINCE  15223 non-null  object\n",
      " 12  FL_PRESENCE_FL           15223 non-null  int64 \n",
      " 13  OWN_AUTO                 15223 non-null  int64 \n",
      " 14  AGREEMENT_RK             15223 non-null  int64 \n",
      " 15  ID_CLIENT                15223 non-null  int64 \n",
      " 16  TARGET                   15223 non-null  int64 \n",
      "dtypes: int64(12), object(5)\n",
      "memory usage: 2.0+ MB\n"
     ]
    }
   ],
   "source": [
    "df_cl_t.info()"
   ]
  },
  {
   "cell_type": "code",
   "execution_count": 5,
   "id": "22209d78",
   "metadata": {},
   "outputs": [
    {
     "data": {
      "text/plain": [
       "(Index(['ID_LOAN', 'ID_CLIENT'], dtype='object'),\n",
       " Index(['ID_LOAN', 'CLOSED_FL'], dtype='object'),\n",
       " Index(['CREDIT', 'TERM', 'FST_PAYMENT', 'ID_CLIENT'], dtype='object'),\n",
       " Index(['ID', 'AGE', 'GENDER', 'EDUCATION', 'MARITAL_STATUS', 'CHILD_TOTAL',\n",
       "        'DEPENDANTS', 'SOCSTATUS_WORK_FL', 'SOCSTATUS_PENS_FL',\n",
       "        'REG_ADDRESS_PROVINCE', 'FACT_ADDRESS_PROVINCE',\n",
       "        'POSTAL_ADDRESS_PROVINCE', 'FL_PRESENCE_FL', 'OWN_AUTO'],\n",
       "       dtype='object'))"
      ]
     },
     "execution_count": 5,
     "metadata": {},
     "output_type": "execute_result"
    }
   ],
   "source": [
    "df_loan.columns, df_close_loan.columns, df_last_credit.columns, df_clients.columns"
   ]
  },
  {
   "cell_type": "markdown",
   "id": "eea1c140",
   "metadata": {},
   "source": [
    "Смержим таблицы кредитов по ID_LOAN (left join, нас не интересуют закрытые кредиты по которым нет связи c ID_CLIENT)\n",
    "далее агрегируем по ID_CLIENT - получаем по каждому клиенту сколько брал кредитов, сколько вернул на даный момент"
   ]
  },
  {
   "cell_type": "code",
   "execution_count": 6,
   "id": "5914251a",
   "metadata": {},
   "outputs": [],
   "source": [
    "df_credits = pd.merge(df_loan, df_close_loan, how = \"left\", on = \"ID_LOAN\")\n",
    "df_client_credits = df_credits[[\"ID_CLIENT\",\"CLOSED_FL\"]].groupby(\"ID_CLIENT\").aggregate([\"count\",\"sum\"])\n",
    "df_client_credits.columns = [\"credits\",\"closed\"]"
   ]
  },
  {
   "cell_type": "code",
   "execution_count": 7,
   "id": "643ace90",
   "metadata": {},
   "outputs": [
    {
     "name": "stdout",
     "output_type": "stream",
     "text": [
      "<class 'pandas.core.frame.DataFrame'>\n",
      "Index: 15223 entries, 106804370 to 106819592\n",
      "Data columns (total 2 columns):\n",
      " #   Column   Non-Null Count  Dtype\n",
      "---  ------   --------------  -----\n",
      " 0   credits  15223 non-null  int64\n",
      " 1   closed   15223 non-null  int64\n",
      "dtypes: int64(2)\n",
      "memory usage: 356.8 KB\n"
     ]
    }
   ],
   "source": [
    "df_client_credits.info()"
   ]
  },
  {
   "cell_type": "markdown",
   "id": "14c1ab77",
   "metadata": {},
   "source": [
    "Точно также приклеим данные по зарплате (left join)"
   ]
  },
  {
   "cell_type": "code",
   "execution_count": 8,
   "id": "f5776570",
   "metadata": {},
   "outputs": [
    {
     "data": {
      "text/html": [
       "<div>\n",
       "<style scoped>\n",
       "    .dataframe tbody tr th:only-of-type {\n",
       "        vertical-align: middle;\n",
       "    }\n",
       "\n",
       "    .dataframe tbody tr th {\n",
       "        vertical-align: top;\n",
       "    }\n",
       "\n",
       "    .dataframe thead th {\n",
       "        text-align: right;\n",
       "    }\n",
       "</style>\n",
       "<table border=\"1\" class=\"dataframe\">\n",
       "  <thead>\n",
       "    <tr style=\"text-align: right;\">\n",
       "      <th></th>\n",
       "      <th>ID</th>\n",
       "      <th>AGE</th>\n",
       "      <th>GENDER</th>\n",
       "      <th>EDUCATION</th>\n",
       "      <th>MARITAL_STATUS</th>\n",
       "      <th>CHILD_TOTAL</th>\n",
       "      <th>DEPENDANTS</th>\n",
       "      <th>SOCSTATUS_WORK_FL</th>\n",
       "      <th>SOCSTATUS_PENS_FL</th>\n",
       "      <th>REG_ADDRESS_PROVINCE</th>\n",
       "      <th>...</th>\n",
       "      <th>TARGET</th>\n",
       "      <th>credits</th>\n",
       "      <th>closed</th>\n",
       "      <th>FAMILY_INCOME</th>\n",
       "      <th>PERSONAL_INCOME</th>\n",
       "      <th>ID_CLIENT_y</th>\n",
       "      <th>GEN_INDUSTRY</th>\n",
       "      <th>GEN_TITLE</th>\n",
       "      <th>JOB_DIR</th>\n",
       "      <th>WORK_TIME</th>\n",
       "    </tr>\n",
       "  </thead>\n",
       "  <tbody>\n",
       "    <tr>\n",
       "      <th>0</th>\n",
       "      <td>106804370</td>\n",
       "      <td>49</td>\n",
       "      <td>1</td>\n",
       "      <td>Среднее специальное</td>\n",
       "      <td>Состою в браке</td>\n",
       "      <td>2</td>\n",
       "      <td>1</td>\n",
       "      <td>1</td>\n",
       "      <td>0</td>\n",
       "      <td>Оренбургская область</td>\n",
       "      <td>...</td>\n",
       "      <td>0</td>\n",
       "      <td>1</td>\n",
       "      <td>1</td>\n",
       "      <td>от 10000 до 20000 руб.</td>\n",
       "      <td>5000.0</td>\n",
       "      <td>106804370</td>\n",
       "      <td>Торговля</td>\n",
       "      <td>Рабочий</td>\n",
       "      <td>Вспомогательный техперсонал</td>\n",
       "      <td>18.0</td>\n",
       "    </tr>\n",
       "    <tr>\n",
       "      <th>1</th>\n",
       "      <td>106804370</td>\n",
       "      <td>49</td>\n",
       "      <td>1</td>\n",
       "      <td>Среднее специальное</td>\n",
       "      <td>Состою в браке</td>\n",
       "      <td>2</td>\n",
       "      <td>1</td>\n",
       "      <td>1</td>\n",
       "      <td>0</td>\n",
       "      <td>Оренбургская область</td>\n",
       "      <td>...</td>\n",
       "      <td>0</td>\n",
       "      <td>1</td>\n",
       "      <td>1</td>\n",
       "      <td>от 10000 до 20000 руб.</td>\n",
       "      <td>5000.0</td>\n",
       "      <td>106804370</td>\n",
       "      <td>Торговля</td>\n",
       "      <td>Рабочий</td>\n",
       "      <td>Вспомогательный техперсонал</td>\n",
       "      <td>18.0</td>\n",
       "    </tr>\n",
       "  </tbody>\n",
       "</table>\n",
       "<p>2 rows × 26 columns</p>\n",
       "</div>"
      ],
      "text/plain": [
       "          ID  AGE  GENDER            EDUCATION  MARITAL_STATUS  CHILD_TOTAL  \\\n",
       "0  106804370   49       1  Среднее специальное  Состою в браке            2   \n",
       "1  106804370   49       1  Среднее специальное  Состою в браке            2   \n",
       "\n",
       "   DEPENDANTS  SOCSTATUS_WORK_FL  SOCSTATUS_PENS_FL  REG_ADDRESS_PROVINCE  \\\n",
       "0           1                  1                  0  Оренбургская область   \n",
       "1           1                  1                  0  Оренбургская область   \n",
       "\n",
       "   ... TARGET credits  closed           FAMILY_INCOME  PERSONAL_INCOME  \\\n",
       "0  ...      0       1       1  от 10000 до 20000 руб.           5000.0   \n",
       "1  ...      0       1       1  от 10000 до 20000 руб.           5000.0   \n",
       "\n",
       "   ID_CLIENT_y  GEN_INDUSTRY  GEN_TITLE                      JOB_DIR WORK_TIME  \n",
       "0    106804370      Торговля    Рабочий  Вспомогательный техперсонал      18.0  \n",
       "1    106804370      Торговля    Рабочий  Вспомогательный техперсонал      18.0  \n",
       "\n",
       "[2 rows x 26 columns]"
      ]
     },
     "execution_count": 8,
     "metadata": {},
     "output_type": "execute_result"
    }
   ],
   "source": [
    "df_mix_tmp = pd.merge(df_cl_t, df_client_credits, how = \"left\", left_on = \"ID\", right_on = \"ID_CLIENT\")\n",
    "df_mix_tmp_1 = pd.merge(df_mix_tmp, df_salary, how = \"left\", left_on = \"ID\", right_on = \"ID_CLIENT\")\n",
    "df_mix = pd.merge(df_mix_tmp_1, df_job, how = \"left\", left_on = \"ID\", right_on = \"ID_CLIENT\")\\\n",
    "                    .drop(\"ID_CLIENT\", axis=1)\n",
    "df_mix.head(2)"
   ]
  },
  {
   "cell_type": "code",
   "execution_count": 9,
   "id": "e845b93f",
   "metadata": {},
   "outputs": [
    {
     "name": "stdout",
     "output_type": "stream",
     "text": [
      "<class 'pandas.core.frame.DataFrame'>\n",
      "RangeIndex: 15523 entries, 0 to 15522\n",
      "Data columns (total 26 columns):\n",
      " #   Column                   Non-Null Count  Dtype  \n",
      "---  ------                   --------------  -----  \n",
      " 0   ID                       15523 non-null  int64  \n",
      " 1   AGE                      15523 non-null  int64  \n",
      " 2   GENDER                   15523 non-null  int64  \n",
      " 3   EDUCATION                15523 non-null  object \n",
      " 4   MARITAL_STATUS           15523 non-null  object \n",
      " 5   CHILD_TOTAL              15523 non-null  int64  \n",
      " 6   DEPENDANTS               15523 non-null  int64  \n",
      " 7   SOCSTATUS_WORK_FL        15523 non-null  int64  \n",
      " 8   SOCSTATUS_PENS_FL        15523 non-null  int64  \n",
      " 9   REG_ADDRESS_PROVINCE     15523 non-null  object \n",
      " 10  FACT_ADDRESS_PROVINCE    15523 non-null  object \n",
      " 11  POSTAL_ADDRESS_PROVINCE  15523 non-null  object \n",
      " 12  FL_PRESENCE_FL           15523 non-null  int64  \n",
      " 13  OWN_AUTO                 15523 non-null  int64  \n",
      " 14  AGREEMENT_RK             15523 non-null  int64  \n",
      " 15  ID_CLIENT_x              15523 non-null  int64  \n",
      " 16  TARGET                   15523 non-null  int64  \n",
      " 17  credits                  15523 non-null  int64  \n",
      " 18  closed                   15523 non-null  int64  \n",
      " 19  FAMILY_INCOME            15523 non-null  object \n",
      " 20  PERSONAL_INCOME          15523 non-null  float64\n",
      " 21  ID_CLIENT_y              15523 non-null  int64  \n",
      " 22  GEN_INDUSTRY             14126 non-null  object \n",
      " 23  GEN_TITLE                14126 non-null  object \n",
      " 24  JOB_DIR                  14126 non-null  object \n",
      " 25  WORK_TIME                14125 non-null  float64\n",
      "dtypes: float64(2), int64(15), object(9)\n",
      "memory usage: 3.1+ MB\n"
     ]
    }
   ],
   "source": [
    "df_mix.info()"
   ]
  },
  {
   "cell_type": "code",
   "execution_count": 87,
   "id": "c78ce0c5",
   "metadata": {},
   "outputs": [],
   "source": [
    "df_mix.to_csv(\"datasets/final.csv\")"
   ]
  },
  {
   "cell_type": "code",
   "execution_count": 88,
   "id": "e53c5ac9",
   "metadata": {},
   "outputs": [
    {
     "data": {
      "text/plain": [
       "0"
      ]
     },
     "execution_count": 88,
     "metadata": {},
     "output_type": "execute_result"
    }
   ],
   "source": [
    "df_mix[\"TARGET\"].isna().sum()"
   ]
  },
  {
   "cell_type": "code",
   "execution_count": 12,
   "id": "0202631e",
   "metadata": {},
   "outputs": [
    {
     "data": {
      "text/plain": [
       "Index(['ID', 'AGE', 'GENDER', 'EDUCATION', 'MARITAL_STATUS', 'CHILD_TOTAL',\n",
       "       'DEPENDANTS', 'SOCSTATUS_WORK_FL', 'SOCSTATUS_PENS_FL',\n",
       "       'REG_ADDRESS_PROVINCE', 'FACT_ADDRESS_PROVINCE',\n",
       "       'POSTAL_ADDRESS_PROVINCE', 'FL_PRESENCE_FL', 'OWN_AUTO', 'AGREEMENT_RK',\n",
       "       'ID_CLIENT_x', 'TARGET', 'credits', 'closed', 'FAMILY_INCOME',\n",
       "       'PERSONAL_INCOME', 'ID_CLIENT_y', 'GEN_INDUSTRY', 'GEN_TITLE',\n",
       "       'JOB_DIR', 'WORK_TIME'],\n",
       "      dtype='object')"
      ]
     },
     "execution_count": 12,
     "metadata": {},
     "output_type": "execute_result"
    }
   ],
   "source": [
    "df_mix.columns"
   ]
  },
  {
   "cell_type": "code",
   "execution_count": 13,
   "id": "d26fed1a",
   "metadata": {},
   "outputs": [
    {
     "data": {
      "text/plain": [
       "GENDER\n",
       "1    10152\n",
       "0     5371\n",
       "Name: count, dtype: int64"
      ]
     },
     "execution_count": 13,
     "metadata": {},
     "output_type": "execute_result"
    }
   ],
   "source": [
    "df_mix[\"GENDER\"].value_counts()"
   ]
  },
  {
   "cell_type": "markdown",
   "id": "0b4d379f",
   "metadata": {},
   "source": [
    "### Исследование на выбросы"
   ]
  },
  {
   "cell_type": "code",
   "execution_count": 67,
   "id": "bc1d09c6",
   "metadata": {},
   "outputs": [
    {
     "data": {
      "text/html": [
       "<div>\n",
       "<style scoped>\n",
       "    .dataframe tbody tr th:only-of-type {\n",
       "        vertical-align: middle;\n",
       "    }\n",
       "\n",
       "    .dataframe tbody tr th {\n",
       "        vertical-align: top;\n",
       "    }\n",
       "\n",
       "    .dataframe thead th {\n",
       "        text-align: right;\n",
       "    }\n",
       "</style>\n",
       "<table border=\"1\" class=\"dataframe\">\n",
       "  <thead>\n",
       "    <tr style=\"text-align: right;\">\n",
       "      <th></th>\n",
       "      <th>AGE</th>\n",
       "      <th>CHILD_TOTAL</th>\n",
       "      <th>DEPENDANTS</th>\n",
       "      <th>credits</th>\n",
       "      <th>closed</th>\n",
       "      <th>PERSONAL_INCOME</th>\n",
       "    </tr>\n",
       "  </thead>\n",
       "  <tbody>\n",
       "    <tr>\n",
       "      <th>0</th>\n",
       "      <td>49</td>\n",
       "      <td>2</td>\n",
       "      <td>1</td>\n",
       "      <td>1</td>\n",
       "      <td>1</td>\n",
       "      <td>5000.0</td>\n",
       "    </tr>\n",
       "    <tr>\n",
       "      <th>1</th>\n",
       "      <td>49</td>\n",
       "      <td>2</td>\n",
       "      <td>1</td>\n",
       "      <td>1</td>\n",
       "      <td>1</td>\n",
       "      <td>5000.0</td>\n",
       "    </tr>\n",
       "  </tbody>\n",
       "</table>\n",
       "</div>"
      ],
      "text/plain": [
       "   AGE  CHILD_TOTAL  DEPENDANTS  credits  closed  PERSONAL_INCOME\n",
       "0   49            2           1        1       1           5000.0\n",
       "1   49            2           1        1       1           5000.0"
      ]
     },
     "execution_count": 67,
     "metadata": {},
     "output_type": "execute_result"
    }
   ],
   "source": [
    "df_num = df_mix.select_dtypes(include=np.number)\n",
    "df_num = df_num.loc[:, ~df_num.columns.isin(['ID','WORK_TIME','AGREEMENT_RK','ID_CLIENT_x',\n",
    "                                             'ID_CLIENT_y','TARGET','SOCSTATUS_WORK_FL', \n",
    "                                             'SOCSTATUS_PENS_FL','GENDER','OWN_AUTO','FL_PRESENCE_FL'])]\n",
    "df_num.head(2)"
   ]
  },
  {
   "cell_type": "code",
   "execution_count": 69,
   "id": "495283db",
   "metadata": {
    "scrolled": false
   },
   "outputs": [
    {
     "data": {
      "image/png": "[encoded data removed]",
      "text/plain": [
       "<Figure size 1300x1300 with 6 Axes>"
      ]
     },
     "metadata": {},
     "output_type": "display_data"
    }
   ],
   "source": [
    "fig, axs = plt.subplots(nrows=3, ncols=2, figsize=(13,13))\n",
    "axs = axs.flatten()\n",
    "\n",
    "fig.suptitle('Распределения по разным признакам',\n",
    "             fontsize=20,\n",
    "             fontweight='bold')\n",
    "\n",
    "for i, col in enumerate(df_num.columns):\n",
    "    sns.boxplot(df_num[col], ax=axs[i])    \n"
   ]
  },
  {
   "cell_type": "code",
   "execution_count": 82,
   "id": "cc3e89b2",
   "metadata": {
    "scrolled": false
   },
   "outputs": [
    {
     "data": {
      "text/html": [
       "<div>\n",
       "<style scoped>\n",
       "    .dataframe tbody tr th:only-of-type {\n",
       "        vertical-align: middle;\n",
       "    }\n",
       "\n",
       "    .dataframe tbody tr th {\n",
       "        vertical-align: top;\n",
       "    }\n",
       "\n",
       "    .dataframe thead th {\n",
       "        text-align: right;\n",
       "    }\n",
       "</style>\n",
       "<table border=\"1\" class=\"dataframe\">\n",
       "  <thead>\n",
       "    <tr style=\"text-align: right;\">\n",
       "      <th></th>\n",
       "      <th>ID</th>\n",
       "      <th>AGE</th>\n",
       "      <th>GENDER</th>\n",
       "      <th>EDUCATION</th>\n",
       "      <th>MARITAL_STATUS</th>\n",
       "      <th>CHILD_TOTAL</th>\n",
       "      <th>DEPENDANTS</th>\n",
       "      <th>SOCSTATUS_WORK_FL</th>\n",
       "      <th>SOCSTATUS_PENS_FL</th>\n",
       "      <th>REG_ADDRESS_PROVINCE</th>\n",
       "      <th>...</th>\n",
       "      <th>TARGET</th>\n",
       "      <th>credits</th>\n",
       "      <th>closed</th>\n",
       "      <th>FAMILY_INCOME</th>\n",
       "      <th>PERSONAL_INCOME</th>\n",
       "      <th>ID_CLIENT_y</th>\n",
       "      <th>GEN_INDUSTRY</th>\n",
       "      <th>GEN_TITLE</th>\n",
       "      <th>JOB_DIR</th>\n",
       "      <th>WORK_TIME</th>\n",
       "    </tr>\n",
       "  </thead>\n",
       "  <tbody>\n",
       "    <tr>\n",
       "      <th>14806</th>\n",
       "      <td>106818895</td>\n",
       "      <td>41</td>\n",
       "      <td>0</td>\n",
       "      <td>Высшее</td>\n",
       "      <td>Состою в браке</td>\n",
       "      <td>2</td>\n",
       "      <td>2</td>\n",
       "      <td>1</td>\n",
       "      <td>0</td>\n",
       "      <td>Самарская область</td>\n",
       "      <td>...</td>\n",
       "      <td>1</td>\n",
       "      <td>1</td>\n",
       "      <td>1</td>\n",
       "      <td>свыше 50000 руб.</td>\n",
       "      <td>80000.0</td>\n",
       "      <td>106818895</td>\n",
       "      <td>Торговля</td>\n",
       "      <td>Руководитель высшего звена</td>\n",
       "      <td>Участие в основ. деятельности</td>\n",
       "      <td>72.0</td>\n",
       "    </tr>\n",
       "    <tr>\n",
       "      <th>5596</th>\n",
       "      <td>106809843</td>\n",
       "      <td>52</td>\n",
       "      <td>0</td>\n",
       "      <td>Два и более высших образования</td>\n",
       "      <td>Состою в браке</td>\n",
       "      <td>2</td>\n",
       "      <td>0</td>\n",
       "      <td>1</td>\n",
       "      <td>0</td>\n",
       "      <td>Рязанская область</td>\n",
       "      <td>...</td>\n",
       "      <td>1</td>\n",
       "      <td>1</td>\n",
       "      <td>1</td>\n",
       "      <td>свыше 50000 руб.</td>\n",
       "      <td>50000.0</td>\n",
       "      <td>106809843</td>\n",
       "      <td>Нефтегазовая промышленность</td>\n",
       "      <td>Высококвалифиц. специалист</td>\n",
       "      <td>Юридическая служба</td>\n",
       "      <td>9.0</td>\n",
       "    </tr>\n",
       "    <tr>\n",
       "      <th>6058</th>\n",
       "      <td>106810296</td>\n",
       "      <td>56</td>\n",
       "      <td>1</td>\n",
       "      <td>Высшее</td>\n",
       "      <td>Разведен(а)</td>\n",
       "      <td>1</td>\n",
       "      <td>0</td>\n",
       "      <td>1</td>\n",
       "      <td>0</td>\n",
       "      <td>Калмыкия</td>\n",
       "      <td>...</td>\n",
       "      <td>1</td>\n",
       "      <td>1</td>\n",
       "      <td>0</td>\n",
       "      <td>от 20000 до 50000 руб.</td>\n",
       "      <td>60000.0</td>\n",
       "      <td>106810296</td>\n",
       "      <td>Торговля</td>\n",
       "      <td>Руководитель высшего звена</td>\n",
       "      <td>Участие в основ. деятельности</td>\n",
       "      <td>156.0</td>\n",
       "    </tr>\n",
       "  </tbody>\n",
       "</table>\n",
       "<p>3 rows × 26 columns</p>\n",
       "</div>"
      ],
      "text/plain": [
       "              ID  AGE  GENDER                       EDUCATION  MARITAL_STATUS  \\\n",
       "14806  106818895   41       0                          Высшее  Состою в браке   \n",
       "5596   106809843   52       0  Два и более высших образования  Состою в браке   \n",
       "6058   106810296   56       1                          Высшее     Разведен(а)   \n",
       "\n",
       "       CHILD_TOTAL  DEPENDANTS  SOCSTATUS_WORK_FL  SOCSTATUS_PENS_FL  \\\n",
       "14806            2           2                  1                  0   \n",
       "5596             2           0                  1                  0   \n",
       "6058             1           0                  1                  0   \n",
       "\n",
       "      REG_ADDRESS_PROVINCE  ... TARGET credits  closed  \\\n",
       "14806    Самарская область  ...      1       1       1   \n",
       "5596     Рязанская область  ...      1       1       1   \n",
       "6058              Калмыкия  ...      1       1       0   \n",
       "\n",
       "                FAMILY_INCOME  PERSONAL_INCOME  ID_CLIENT_y  \\\n",
       "14806        свыше 50000 руб.          80000.0    106818895   \n",
       "5596         свыше 50000 руб.          50000.0    106809843   \n",
       "6058   от 20000 до 50000 руб.          60000.0    106810296   \n",
       "\n",
       "                      GEN_INDUSTRY                   GEN_TITLE  \\\n",
       "14806                     Торговля  Руководитель высшего звена   \n",
       "5596   Нефтегазовая промышленность  Высококвалифиц. специалист   \n",
       "6058                      Торговля  Руководитель высшего звена   \n",
       "\n",
       "                             JOB_DIR WORK_TIME  \n",
       "14806  Участие в основ. деятельности      72.0  \n",
       "5596              Юридическая служба       9.0  \n",
       "6058   Участие в основ. деятельности     156.0  \n",
       "\n",
       "[3 rows x 26 columns]"
      ]
     },
     "execution_count": 82,
     "metadata": {},
     "output_type": "execute_result"
    }
   ],
   "source": [
    "df_mix[zscore(df_mix['PERSONAL_INCOME']) > 3].sample(3)"
   ]
  },
  {
   "cell_type": "code",
   "execution_count": 86,
   "id": "64fccb9b",
   "metadata": {},
   "outputs": [
    {
     "data": {
      "text/html": [
       "<div>\n",
       "<style scoped>\n",
       "    .dataframe tbody tr th:only-of-type {\n",
       "        vertical-align: middle;\n",
       "    }\n",
       "\n",
       "    .dataframe tbody tr th {\n",
       "        vertical-align: top;\n",
       "    }\n",
       "\n",
       "    .dataframe thead th {\n",
       "        text-align: right;\n",
       "    }\n",
       "</style>\n",
       "<table border=\"1\" class=\"dataframe\">\n",
       "  <thead>\n",
       "    <tr style=\"text-align: right;\">\n",
       "      <th></th>\n",
       "      <th>ID</th>\n",
       "      <th>AGE</th>\n",
       "      <th>GENDER</th>\n",
       "      <th>EDUCATION</th>\n",
       "      <th>MARITAL_STATUS</th>\n",
       "      <th>CHILD_TOTAL</th>\n",
       "      <th>DEPENDANTS</th>\n",
       "      <th>SOCSTATUS_WORK_FL</th>\n",
       "      <th>SOCSTATUS_PENS_FL</th>\n",
       "      <th>REG_ADDRESS_PROVINCE</th>\n",
       "      <th>...</th>\n",
       "      <th>TARGET</th>\n",
       "      <th>credits</th>\n",
       "      <th>closed</th>\n",
       "      <th>FAMILY_INCOME</th>\n",
       "      <th>PERSONAL_INCOME</th>\n",
       "      <th>ID_CLIENT_y</th>\n",
       "      <th>GEN_INDUSTRY</th>\n",
       "      <th>GEN_TITLE</th>\n",
       "      <th>JOB_DIR</th>\n",
       "      <th>WORK_TIME</th>\n",
       "    </tr>\n",
       "  </thead>\n",
       "  <tbody>\n",
       "    <tr>\n",
       "      <th>2232</th>\n",
       "      <td>106806558</td>\n",
       "      <td>53</td>\n",
       "      <td>1</td>\n",
       "      <td>Среднее</td>\n",
       "      <td>Состою в браке</td>\n",
       "      <td>5</td>\n",
       "      <td>0</td>\n",
       "      <td>0</td>\n",
       "      <td>1</td>\n",
       "      <td>Оренбургская область</td>\n",
       "      <td>...</td>\n",
       "      <td>0</td>\n",
       "      <td>1</td>\n",
       "      <td>0</td>\n",
       "      <td>от 10000 до 20000 руб.</td>\n",
       "      <td>5000.0</td>\n",
       "      <td>106806558</td>\n",
       "      <td>NaN</td>\n",
       "      <td>NaN</td>\n",
       "      <td>NaN</td>\n",
       "      <td>NaN</td>\n",
       "    </tr>\n",
       "    <tr>\n",
       "      <th>7964</th>\n",
       "      <td>106812170</td>\n",
       "      <td>51</td>\n",
       "      <td>1</td>\n",
       "      <td>Неполное среднее</td>\n",
       "      <td>Состою в браке</td>\n",
       "      <td>5</td>\n",
       "      <td>0</td>\n",
       "      <td>0</td>\n",
       "      <td>1</td>\n",
       "      <td>Тюменская область</td>\n",
       "      <td>...</td>\n",
       "      <td>0</td>\n",
       "      <td>1</td>\n",
       "      <td>0</td>\n",
       "      <td>от 10000 до 20000 руб.</td>\n",
       "      <td>6000.0</td>\n",
       "      <td>106812170</td>\n",
       "      <td>NaN</td>\n",
       "      <td>NaN</td>\n",
       "      <td>NaN</td>\n",
       "      <td>NaN</td>\n",
       "    </tr>\n",
       "    <tr>\n",
       "      <th>2642</th>\n",
       "      <td>106806959</td>\n",
       "      <td>38</td>\n",
       "      <td>1</td>\n",
       "      <td>Среднее</td>\n",
       "      <td>Состою в браке</td>\n",
       "      <td>5</td>\n",
       "      <td>5</td>\n",
       "      <td>1</td>\n",
       "      <td>0</td>\n",
       "      <td>Башкирия</td>\n",
       "      <td>...</td>\n",
       "      <td>0</td>\n",
       "      <td>1</td>\n",
       "      <td>0</td>\n",
       "      <td>от 10000 до 20000 руб.</td>\n",
       "      <td>6000.0</td>\n",
       "      <td>106806959</td>\n",
       "      <td>Другие сферы</td>\n",
       "      <td>Рабочий</td>\n",
       "      <td>Участие в основ. деятельности</td>\n",
       "      <td>24.0</td>\n",
       "    </tr>\n",
       "  </tbody>\n",
       "</table>\n",
       "<p>3 rows × 26 columns</p>\n",
       "</div>"
      ],
      "text/plain": [
       "             ID  AGE  GENDER         EDUCATION  MARITAL_STATUS  CHILD_TOTAL  \\\n",
       "2232  106806558   53       1           Среднее  Состою в браке            5   \n",
       "7964  106812170   51       1  Неполное среднее  Состою в браке            5   \n",
       "2642  106806959   38       1           Среднее  Состою в браке            5   \n",
       "\n",
       "      DEPENDANTS  SOCSTATUS_WORK_FL  SOCSTATUS_PENS_FL  REG_ADDRESS_PROVINCE  \\\n",
       "2232           0                  0                  1  Оренбургская область   \n",
       "7964           0                  0                  1     Тюменская область   \n",
       "2642           5                  1                  0              Башкирия   \n",
       "\n",
       "      ... TARGET credits  closed           FAMILY_INCOME  PERSONAL_INCOME  \\\n",
       "2232  ...      0       1       0  от 10000 до 20000 руб.           5000.0   \n",
       "7964  ...      0       1       0  от 10000 до 20000 руб.           6000.0   \n",
       "2642  ...      0       1       0  от 10000 до 20000 руб.           6000.0   \n",
       "\n",
       "      ID_CLIENT_y  GEN_INDUSTRY  GEN_TITLE                        JOB_DIR  \\\n",
       "2232    106806558           NaN        NaN                            NaN   \n",
       "7964    106812170           NaN        NaN                            NaN   \n",
       "2642    106806959  Другие сферы    Рабочий  Участие в основ. деятельности   \n",
       "\n",
       "     WORK_TIME  \n",
       "2232       NaN  \n",
       "7964       NaN  \n",
       "2642      24.0  \n",
       "\n",
       "[3 rows x 26 columns]"
      ]
     },
     "execution_count": 86,
     "metadata": {},
     "output_type": "execute_result"
    }
   ],
   "source": [
    "df_mix[zscore(df_mix['CHILD_TOTAL']) > 3].sample(3)"
   ]
  },
  {
   "cell_type": "markdown",
   "id": "7a4ae698",
   "metadata": {},
   "source": [
    "### То что с точки зрения статистики можно принять за выбросами в реальности таковыми не являются"
   ]
  },
  {
   "cell_type": "code",
   "execution_count": null,
   "id": "da50b6a9",
   "metadata": {},
   "outputs": [],
   "source": []
  }
 ],
 "metadata": {
  "kernelspec": {
   "display_name": "Python 3 (ipykernel)",
   "language": "python",
   "name": "python3"
  },
  "language_info": {
   "codemirror_mode": {
    "name": "ipython",
    "version": 3
   },
   "file_extension": ".py",
   "mimetype": "text/x-python",
   "name": "python",
   "nbconvert_exporter": "python",
   "pygments_lexer": "ipython3",
   "version": "3.11.5"
  }
 },
 "nbformat": 4,
 "nbformat_minor": 5
}
